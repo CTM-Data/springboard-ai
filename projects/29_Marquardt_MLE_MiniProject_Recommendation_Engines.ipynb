{
  "cells": [
    {
      "cell_type": "markdown",
      "metadata": {
        "id": "fyXucUekO19i"
      },
      "source": [
        "# Mini Project: Recommendation Engines\n",
        "\n",
        "Recommendation engines are algorithms designed to provide personalized suggestions or recommendations to users. These systems analyze user behavior, preferences, and interactions with items (products, movies, music, articles, etc.) to predict and offer items that users are likely to be interested in. Recommendation engines play a crucial role in enhancing user experience, driving engagement, and increasing conversion rates in various applications, including e-commerce, entertainment, content platforms, and more.\n",
        "\n",
        "There are generally two approaches taken in collaborative filtering and content-based recommendation engines:\n",
        "\n",
        "**1. Collaborative Filtering:**\n",
        "Collaborative Filtering is a popular approach to building recommendation systems that leverages the collective behavior of users to make personalized recommendations. It is based on the idea that users who have agreed in the past will likely agree in the future. There are two main types of collaborative filtering:\n",
        "\n",
        "- **User-based Collaborative Filtering:** This method finds users similar to the target user based on their past interactions (e.g., ratings or purchases). It then recommends items that similar users have liked but the target user has not interacted with yet.\n",
        "\n",
        "- **Item-based Collaborative Filtering:** In this approach, the system identifies similar items based on user interactions. It recommends items that are similar to the ones the target user has already liked or interacted with.\n",
        "\n",
        "Collaborative filtering does not require any explicit information about items but relies on the similarity between users or items. It is effective in capturing complex patterns and can provide serendipitous recommendations. However, it suffers from the cold-start problem (i.e., difficulty in recommending to new users or items with no interactions) and scalability challenges in large datasets.\n",
        "\n",
        "**2. Content-Based Recommendation:**\n",
        "Content-based recommendation is an alternative approach to building recommendation systems that focuses on the attributes or features of items and users. It leverages the characteristics of items to make recommendations. The key steps involved in content-based recommendation are:\n",
        "\n",
        "- **Feature Extraction:** For each item, relevant features are extracted. For movies, these features could be genre, director, actors, and plot summary.\n",
        "\n",
        "- **User Profile:** A user profile is created based on the items they have interacted with in the past. The user profile contains the weighted importance of features based on their interactions.\n",
        "\n",
        "- **Similarity Calculation:** The similarity between items or between items and the user profile is calculated using similarity metrics like cosine similarity or Euclidean distance.\n",
        "\n",
        "- **Recommendation:** Items that are most similar to the user profile are recommended to the user.\n",
        "\n",
        "Content-based recommendation systems are less affected by the cold-start problem as they can still recommend items based on their features. They are also more interpretable as they rely on item attributes. However, they may miss out on providing serendipitous recommendations and can be limited by the quality of feature extraction and user profiles.\n",
        "\n",
        "**Choosing Between Collaborative Filtering and Content-Based:**\n",
        "Both collaborative filtering and content-based approaches have their strengths and weaknesses. The choice between them depends on the specific requirements of the recommendation system, the type of data available, and the user base. Hybrid approaches that combine collaborative filtering and content-based techniques are also common, aiming to leverage the strengths of both methods and mitigate their weaknesses."
      ]
    },
    {
      "cell_type": "markdown",
      "metadata": {
        "id": "TYuE9O6I2uRY"
      },
      "source": [
        "In this mini-project, you'll be building both content based and collaborative filtering engines for the [MovieLens 25M dataset](https://grouplens.org/datasets/movielens/25m/). The MovieLens 25M dataset is one of the most widely used and popular datasets for building and evaluating recommendation systems. It is provided by the GroupLens Research project, which collects and studies datasets related to movie ratings and recommendations. The MovieLens 25M dataset contains movie ratings and other related information contributed by users of the MovieLens website.\n",
        "\n",
        "**Dataset Details:**\n",
        "- **Size:** The dataset contains approximately 25 million movie ratings.\n",
        "- **Users:** It includes ratings from over 162,000 users.\n",
        "- **Movies:** The dataset consists of ratings for more than 62,000 movies.\n",
        "- **Ratings:** The ratings are provided on a scale of 1 to 5, where 1 is the lowest rating and 5 is the highest.\n",
        "- **Timestamps:** Each rating is associated with a timestamp, indicating when the rating was given.\n",
        "\n",
        "**Data Files:**\n",
        "The dataset is usually split into three CSV files:\n",
        "\n",
        "1. **movies.csv:** Contains information about movies, including the movie ID, title, genres, and release year.\n",
        "   - Columns: movieId, title, genres\n",
        "\n",
        "2. **ratings.csv:** Contains movie ratings provided by users, including the user ID, movie ID, rating, and timestamp.\n",
        "   - Columns: userId, movieId, rating, timestamp\n",
        "\n",
        "3. **tags.csv:** Contains user-generated tags for movies, including the user ID, movie ID, tag, and timestamp.\n",
        "   - Columns: userId, movieId, tag, timestamp"
      ]
    },
    {
      "cell_type": "markdown",
      "metadata": {
        "id": "DN0qzP-cRlMo"
      },
      "source": [
        "##### First, import all the libraries you'll need."
      ]
    },
    {
      "cell_type": "code",
      "execution_count": 1,
      "metadata": {
        "id": "kLWR1DfQPakn"
      },
      "outputs": [],
      "source": [
        "import zipfile\n",
        "import numpy as np\n",
        "import pandas as pd\n",
        "from urllib.request import urlretrieve\n",
        "from sklearn.metrics.pairwise import cosine_similarity"
      ]
    },
    {
      "cell_type": "markdown",
      "metadata": {
        "id": "iaG6vAKyREej"
      },
      "source": [
        "Next, download the relevant components of the MoveLens dataset. Note, these instructions are roughly based on the colab [here](https://colab.research.google.com/github/google/eng-edu/blob/main/ml/recommendation-systems/recommendation-systems.ipynb?utm_source=ss-recommendation-systems&utm_campaign=colab-external&utm_medium=referral&utm_content=recommendation-systems#scrollTo=O3bcgduFo4s6)."
      ]
    },
    {
      "cell_type": "code",
      "execution_count": 2,
      "metadata": {
        "id": "-wCvx2ukPm-3"
      },
      "outputs": [
        {
          "name": "stdout",
          "output_type": "stream",
          "text": [
            "Downloading movielens data...\n",
            "Done. Dataset contains:\n",
            "b'943 users\\n1682 items\\n100000 ratings\\n'\n"
          ]
        }
      ],
      "source": [
        "print(\"Downloading movielens data...\")\n",
        "\n",
        "urlretrieve('http://files.grouplens.org/datasets/movielens/ml-100k.zip', 'movielens.zip')\n",
        "zip_ref = zipfile.ZipFile('movielens.zip', 'r')\n",
        "zip_ref.extractall()\n",
        "print(\"Done. Dataset contains:\")\n",
        "print(zip_ref.read('ml-100k/u.info'))\n",
        "\n",
        "ratings_cols = ['user_id', 'movie_id', 'rating', 'unix_timestamp']\n",
        "ratings = pd.read_csv(\n",
        "    'ml-100k/u.data', sep='\\t', names=ratings_cols, encoding='latin-1')\n",
        "\n",
        "# The movies file contains a binary feature for each genre.\n",
        "genre_cols = [\n",
        "    \"genre_unknown\", \"Action\", \"Adventure\", \"Animation\", \"Children\", \"Comedy\",\n",
        "    \"Crime\", \"Documentary\", \"Drama\", \"Fantasy\", \"Film-Noir\", \"Horror\",\n",
        "    \"Musical\", \"Mystery\", \"Romance\", \"Sci-Fi\", \"Thriller\", \"War\", \"Western\"\n",
        "]\n",
        "movies_cols = [\n",
        "    'movie_id', 'title', 'release_date', \"video_release_date\", \"imdb_url\"\n",
        "] + genre_cols\n",
        "movies = pd.read_csv(\n",
        "    'ml-100k/u.item', sep='|', names=movies_cols, encoding='latin-1')"
      ]
    },
    {
      "cell_type": "markdown",
      "metadata": {},
      "source": [
        "##### Instructions: Data Exploration"
      ]
    },
    {
      "cell_type": "markdown",
      "metadata": {
        "id": "pLAMVhnbR-Cy"
      },
      "source": [
        "\n",
        "\n",
        "Before doing any kind of machine learning, it's always good to familiarize yourself with the datasets you'lll be working with.\n",
        "\n",
        "Here are your tasks:\n",
        "\n",
        "1. Spend some time familiarizing yourself with both the `movies` and `ratings` dataframes. How many unique user ids are present? How many unique movies are there?\n",
        "2. Create a new dataframe that merges the `movies` and `ratings` tables on 'movie_id'. Only keep the 'user_id', 'title', 'rating' fields in this new dataframe."
      ]
    },
    {
      "cell_type": "markdown",
      "metadata": {},
      "source": [
        "##### Data Exploration: Movies"
      ]
    },
    {
      "cell_type": "code",
      "execution_count": 3,
      "metadata": {
        "id": "vp7Tx7H_P5f2"
      },
      "outputs": [
        {
          "name": "stdout",
          "output_type": "stream",
          "text": [
            "<class 'pandas.core.frame.DataFrame'>\n",
            "RangeIndex: 1682 entries, 0 to 1681\n",
            "Data columns (total 24 columns):\n",
            " #   Column              Non-Null Count  Dtype  \n",
            "---  ------              --------------  -----  \n",
            " 0   movie_id            1682 non-null   int64  \n",
            " 1   title               1682 non-null   object \n",
            " 2   release_date        1681 non-null   object \n",
            " 3   video_release_date  0 non-null      float64\n",
            " 4   imdb_url            1679 non-null   object \n",
            " 5   genre_unknown       1682 non-null   int64  \n",
            " 6   Action              1682 non-null   int64  \n",
            " 7   Adventure           1682 non-null   int64  \n",
            " 8   Animation           1682 non-null   int64  \n",
            " 9   Children            1682 non-null   int64  \n",
            " 10  Comedy              1682 non-null   int64  \n",
            " 11  Crime               1682 non-null   int64  \n",
            " 12  Documentary         1682 non-null   int64  \n",
            " 13  Drama               1682 non-null   int64  \n",
            " 14  Fantasy             1682 non-null   int64  \n",
            " 15  Film-Noir           1682 non-null   int64  \n",
            " 16  Horror              1682 non-null   int64  \n",
            " 17  Musical             1682 non-null   int64  \n",
            " 18  Mystery             1682 non-null   int64  \n",
            " 19  Romance             1682 non-null   int64  \n",
            " 20  Sci-Fi              1682 non-null   int64  \n",
            " 21  Thriller            1682 non-null   int64  \n",
            " 22  War                 1682 non-null   int64  \n",
            " 23  Western             1682 non-null   int64  \n",
            "dtypes: float64(1), int64(20), object(3)\n",
            "memory usage: 315.5+ KB\n"
          ]
        }
      ],
      "source": [
        "# Spend some time familiarizing yourself with both the movies and ratings dataframes. \n",
        "# How many unique user ids are present? How many unique movies are there?\n",
        "movies.info()"
      ]
    },
    {
      "cell_type": "code",
      "execution_count": 4,
      "metadata": {},
      "outputs": [
        {
          "data": {
            "text/plain": [
              "1682"
            ]
          },
          "execution_count": 4,
          "metadata": {},
          "output_type": "execute_result"
        }
      ],
      "source": [
        "movies.movie_id.nunique()"
      ]
    },
    {
      "cell_type": "markdown",
      "metadata": {},
      "source": [
        "##### Data Exploration: Ratings"
      ]
    },
    {
      "cell_type": "code",
      "execution_count": 5,
      "metadata": {},
      "outputs": [
        {
          "name": "stdout",
          "output_type": "stream",
          "text": [
            "<class 'pandas.core.frame.DataFrame'>\n",
            "RangeIndex: 100000 entries, 0 to 99999\n",
            "Data columns (total 4 columns):\n",
            " #   Column          Non-Null Count   Dtype\n",
            "---  ------          --------------   -----\n",
            " 0   user_id         100000 non-null  int64\n",
            " 1   movie_id        100000 non-null  int64\n",
            " 2   rating          100000 non-null  int64\n",
            " 3   unix_timestamp  100000 non-null  int64\n",
            "dtypes: int64(4)\n",
            "memory usage: 3.1 MB\n"
          ]
        }
      ],
      "source": [
        "# Spend some time familiarizing yourself with both the movies and ratings dataframes. \n",
        "# How many unique user ids are present? How many unique movies are there?\n",
        "ratings.info()"
      ]
    },
    {
      "cell_type": "code",
      "execution_count": 6,
      "metadata": {},
      "outputs": [
        {
          "data": {
            "text/plain": [
              "943"
            ]
          },
          "execution_count": 6,
          "metadata": {},
          "output_type": "execute_result"
        }
      ],
      "source": [
        "ratings.user_id.nunique()"
      ]
    },
    {
      "cell_type": "code",
      "execution_count": 7,
      "metadata": {},
      "outputs": [
        {
          "data": {
            "text/plain": [
              "1682"
            ]
          },
          "execution_count": 7,
          "metadata": {},
          "output_type": "execute_result"
        }
      ],
      "source": [
        "ratings.movie_id.nunique()"
      ]
    },
    {
      "cell_type": "code",
      "execution_count": 8,
      "metadata": {},
      "outputs": [
        {
          "data": {
            "text/plain": [
              "rating\n",
              "5    21201\n",
              "4    34174\n",
              "3    27145\n",
              "2    11370\n",
              "1     6110\n",
              "Name: count, dtype: int64"
            ]
          },
          "execution_count": 8,
          "metadata": {},
          "output_type": "execute_result"
        }
      ],
      "source": [
        "ratings.rating.value_counts().sort_index(ascending=False)"
      ]
    },
    {
      "cell_type": "markdown",
      "metadata": {},
      "source": [
        "##### Merge datasets"
      ]
    },
    {
      "cell_type": "code",
      "execution_count": 9,
      "metadata": {
        "id": "f6MrymMJRMjB"
      },
      "outputs": [
        {
          "name": "stdout",
          "output_type": "stream",
          "text": [
            "ratings dataset shape pre-merge: (100000, 4)\n",
            "dataset shape post-merge: (100000, 3)\n",
            "<class 'pandas.core.frame.DataFrame'>\n",
            "RangeIndex: 100000 entries, 0 to 99999\n",
            "Data columns (total 3 columns):\n",
            " #   Column   Non-Null Count   Dtype \n",
            "---  ------   --------------   ----- \n",
            " 0   user_id  100000 non-null  int64 \n",
            " 1   rating   100000 non-null  int64 \n",
            " 2   title    100000 non-null  object\n",
            "dtypes: int64(2), object(1)\n",
            "memory usage: 2.3+ MB\n"
          ]
        }
      ],
      "source": [
        "# Merge movies and ratings dataframes\n",
        "\n",
        "print(f'ratings dataset shape pre-merge: {ratings.shape}')\n",
        "\n",
        "ratings = ratings.loc[:, ['user_id', 'rating', 'movie_id']].merge(\n",
        "    right = movies.loc[:, ['title', 'movie_id']],\n",
        "    on = 'movie_id',\n",
        "    how = 'left'\n",
        ").reset_index(drop=True).drop(columns=['movie_id'])\n",
        "\n",
        "print(f'dataset shape post-merge: {ratings.shape}')\n",
        "ratings.info()"
      ]
    },
    {
      "cell_type": "markdown",
      "metadata": {},
      "source": [
        "##### Instructions: Content Based"
      ]
    },
    {
      "cell_type": "markdown",
      "metadata": {
        "id": "_U44W0TMT3qf"
      },
      "source": [
        "As mentioned in the introduction, content-Based Filtering is a recommendation engine approach that focuses on the attributes or features of items (products, movies, music, articles, etc.) and leverages these features to make personalized recommendations. The underlying idea is to match the characteristics of items with the preferences of users to suggest items that align with their interests. Content-based filtering is particularly useful when explicit user-item interactions (e.g., ratings or purchases) are sparse or unavailable.\n",
        "\n",
        "**Key Steps in Content-Based Filtering:**\n",
        "\n",
        "1. **Feature Extraction:**\n",
        "   - For each item, relevant features are extracted. These features are typically descriptive attributes that can be represented numerically, such as genre, director, actors, author, publication date, and keywords.\n",
        "   - In the case of text-based items, natural language processing techniques may be used to extract features like TF-IDF (Term Frequency-Inverse Document Frequency) scores.\n",
        "\n",
        "2. **User Profile Creation:**\n",
        "   - A user profile is created based on the items they have interacted with in the past. The user profile contains the weighted importance of features based on their interactions.\n",
        "   - For example, if a user has watched several action movies, the action genre feature would receive a higher weight in their profile.\n",
        "\n",
        "3. **Similarity Calculation:**\n",
        "   - The similarity between items or between items and the user profile is calculated using similarity metrics like cosine similarity, Euclidean distance, or Pearson correlation.\n",
        "   - Cosine similarity is commonly used as it measures the cosine of the angle between two vectors, which represents their similarity.\n",
        "\n",
        "4. **Recommendation:**\n",
        "   - Items that are most similar to the user profile are recommended to the user. These are items whose features have the highest similarity scores with the user profile.\n",
        "   - The recommended items are presented as a list sorted by their similarity scores.\n",
        "\n",
        "**Advantages of Content-Based Filtering:**\n",
        "1. **No Cold-Start Problem:** Content-based filtering can make recommendations even for new users with no historical interactions because it relies on item features rather than user history.\n",
        "\n",
        "2. **User Independence:** The recommendations are based solely on the features of items and do not require knowledge of other users' preferences or behavior.\n",
        "\n",
        "3. **Transparency:** Content-based recommendations are interpretable, as they depend on the features of items, making it easier for users to understand why specific items are recommended.\n",
        "\n",
        "4. **Serendipity:** Content-based filtering can recommend items with characteristics not seen before by the user, leading to serendipitous discoveries.\n",
        "\n",
        "5. **Diversity in Recommendations:** The method can offer diverse recommendations since it suggests items with different feature combinations.\n",
        "\n",
        "**Limitations of Content-Based Filtering:**\n",
        "1. **Limited Discovery:** Content-based filtering may struggle to recommend items outside the scope of users' historical interactions or interests.\n",
        "\n",
        "2. **Over-Specialization:** Users may receive recommendations that are too similar to their previous choices, leading to a lack of exposure to new item categories.\n",
        "\n",
        "3. **Dependency on Feature Quality:** The quality and relevance of item features significantly influence the quality of recommendations.\n",
        "\n",
        "4. **Limited for Cold Items:** Content-based filtering can struggle to recommend new items with limited feature information."
      ]
    },
    {
      "cell_type": "markdown",
      "metadata": {
        "id": "sbJGD7j7Ui-8"
      },
      "source": [
        "Here is your task:\n",
        "\n",
        "1. Write a function that takes in a user id and the dataframe you created before that contains 'user_id', 'title', and 'rating'. The function should return content-based recommendations for this user. Here are steps you can take:\n",
        "\n",
        "  A. Get the user's rated movies\n",
        "\n",
        "  B. Create a TF-IDF matrix using movie genres. Note, this can be extracted from the `movies` dataframe.\n",
        "\n",
        "  C. Compute the cosine similarity between movie genres. Use the [cosine_similarity](https://scikit-learn.org/stable/modules/generated/sklearn.metrics.pairwise.cosine_similarity.html) function.\n",
        "\n",
        "  D. Get the indices of similar movies to those rated by the user based on cosine similarity. Keep only the top 5.\n",
        "\n",
        "  E. Remove duplicates and movies already rated by the user."
      ]
    },
    {
      "cell_type": "code",
      "execution_count": 10,
      "metadata": {
        "id": "JwBQSC-POTzn"
      },
      "outputs": [],
      "source": [
        "# Content-Based Filtering using Movie Genres\n",
        "def content_based_recommendation(user_id, ratings, movies):\n",
        "    # Get the user's rated movies\n",
        "    user_ratings = ratings.loc[(ratings.user_id == user_id) & (ratings.rating > 3)]\n",
        "\n",
        "    # Create a TF-Iratings matrix using movie genres\n",
        "    tfiratings_matrix = movies.drop(columns=['movie_id', 'title', 'release_date', 'video_release_date', 'imdb_url'])\n",
        "\n",
        "    # Compute the cosine similarity between movie genres\n",
        "    cosine_sim = cosine_similarity(tfiratings_matrix, tfiratings_matrix)\n",
        "    cosine_sim_ratings = pd.DataFrame(cosine_sim, index=movies['title'], columns=movies['title'])\n",
        "\n",
        "    recommendation_scores = {}\n",
        "    # Get the indices of the similar movies based on cosine similarity\n",
        "    for movie in user_ratings['title']:\n",
        "        similarities = cosine_sim_ratings.loc[movie]\n",
        "        for sim_movie, score in similarities.items():\n",
        "            if sim_movie not in user_ratings['title'] and sim_movie != movie and sim_movie not in recommendation_scores.keys():\n",
        "                recommendation_scores[sim_movie] = score\n",
        "    \n",
        "    sorted_recommendations = sorted(recommendation_scores.items(), key=lambda x: x[1], reverse=True)\n",
        "    top_5 = [rec[0] for rec in sorted_recommendations[:5]]\n",
        "    return top_5"
      ]
    },
    {
      "cell_type": "code",
      "execution_count": 11,
      "metadata": {},
      "outputs": [
        {
          "name": "stdout",
          "output_type": "stream",
          "text": [
            "['Independence Day (ID4) (1996)', 'Brazil (1985)', 'Aliens (1986)', 'Clockwork Orange, A (1971)', 'Mars Attacks! (1996)']\n"
          ]
        }
      ],
      "source": [
        "test = content_based_recommendation(\n",
        "    user_id = 298,\n",
        "    ratings = ratings, \n",
        "    movies = movies\n",
        ")\n",
        "\n",
        "print(test)"
      ]
    },
    {
      "cell_type": "markdown",
      "metadata": {},
      "source": [
        "##### Instructions: Collaborative"
      ]
    },
    {
      "cell_type": "markdown",
      "metadata": {
        "id": "2NNt3gHLYDxU"
      },
      "source": [
        "The key idea behind collaborative filtering is that users who have agreed in the past will likely agree in the future. Instead of relying on item attributes or user profiles, collaborative filtering identifies patterns of user behavior and item preferences from the interactions present in the data.\n",
        "\n",
        "**Types of Collaborative Filtering:**\n",
        "There are two main types of collaborative filtering:\n",
        "\n",
        "**Collaborative Filtering Process:**\n",
        "The collaborative filtering process typically involves the following steps:\n",
        "\n",
        "1. **Data Collection:**\n",
        "   - Gather data on user-item interactions, such as movie ratings, product purchases, or article clicks.\n",
        "\n",
        "2. **User-Item Matrix:**\n",
        "   - Organize the data into a user-item matrix, where rows represent users, columns represent items, and the entries contain the users' interactions (e.g., ratings).\n",
        "\n",
        "3. **Similarity Calculation:**\n",
        "   - Calculate the similarity between users or items using similarity metrics such as cosine similarity, Pearson correlation, or Jaccard similarity.\n",
        "   - For user-based collaborative filtering, user similarities are calculated, and for item-based collaborative filtering, item similarities are calculated.\n",
        "\n",
        "4. **Neighborhood Selection:**\n",
        "   - For each user or item, select the most similar users or items as the neighborhood.\n",
        "   - The size of the neighborhood (the number of similar users or items to consider) is an important parameter to control the system's behavior.\n",
        "\n",
        "5. **Prediction Generation:**\n",
        "   - Predict the ratings for items that the target user has not yet interacted with by combining the ratings of neighboring users or items.\n",
        "\n",
        "6. **Recommendation Generation:**\n",
        "   - Recommend items with the highest predicted ratings to the target user.\n",
        "\n",
        "**Advantages of Collaborative Filtering using User-Item Interactions:**\n",
        "- Collaborative filtering is based solely on user interactions and does not require knowledge of item attributes, making it useful for cases where item data is sparse or unavailable.\n",
        "- It can provide serendipitous recommendations, suggesting items that users may not have discovered on their own.\n",
        "- Collaborative filtering can be applied in various domains, including e-commerce, music, movie, and content recommendations.\n",
        "\n",
        "**Limitations of Collaborative Filtering:**\n",
        "- The cold-start problem: Collaborative filtering struggles to recommend to new users or items with no or limited interaction history.\n",
        "- It may suffer from sparsity when data is limited or when users have only interacted with a small subset of items.\n",
        "- Scalability issues can arise with large datasets and an increasing number of users or items."
      ]
    },
    {
      "cell_type": "markdown",
      "metadata": {
        "id": "ks4mWyCaYVNY"
      },
      "source": [
        "Here is your task:\n",
        "\n",
        "1. Write a function that takes in a user id and the dataframe you created before that contains 'user_id', 'title', and 'rating'. The function should return collaborative filtering recommendations for this user based on a user-item interaction matrix. Here are steps you can take:\n",
        "\n",
        "  A. Create the user-item matrix using Pandas' [pivot_table](https://pandas.pydata.org/docs/reference/api/pandas.pivot_table.html).\n",
        "\n",
        "  B. Fill missing values with zeros in this matrix.\n",
        "\n",
        "  C. Calculate user-user similarity matrix using cosine similarity.\n",
        "\n",
        "  D. Get the array of similarity scores of the target user with all other users from the similarity matrix.\n",
        "\n",
        "  E. Extract, say the the top 5 most similar users (excluding the target user).\n",
        "\n",
        "  F. Generate movie recommendations based on the most similar users.\n",
        "\n",
        "  G. Remove duplicate movies recommendations."
      ]
    },
    {
      "cell_type": "code",
      "execution_count": 17,
      "metadata": {
        "id": "BqZPgKRDWf-c"
      },
      "outputs": [],
      "source": [
        "# Collaborative Filtering using User-Item Interactions\n",
        "def collaborative_filtering_recommendation(user_id, ratings, n=5):\n",
        "    # Create the user-item matrix\n",
        "    # Pivot the dataframe to create a user-item matrix\n",
        "    user_item_matrix = ratings.pivot_table(index='user_id', columns='title', values='rating')\n",
        "\n",
        "    # Fill missing values with 0 (indicating no rating)\n",
        "    user_item_matrix_filled = user_item_matrix.fillna(0)\n",
        "\n",
        "    # Calculate user-user similarity matrix using cosine similarity\n",
        "    user_similarity = cosine_similarity(user_item_matrix_filled)\n",
        "    user_similarity_df = pd.DataFrame(\n",
        "        user_similarity,\n",
        "        index=user_item_matrix.index, \n",
        "        columns=user_item_matrix.index\n",
        "    )\n",
        "\n",
        "    # Get the similarity scores of the target user with all other users\n",
        "    similar_users = user_similarity_df[user_id].drop(index=user_id)\n",
        "\n",
        "    # Find the top N most similar users (excluding the target user)\n",
        "    most_similar_users = similar_users.sort_values(ascending=False).iloc[:n] #pd.Series, index = user_id values = cosine similarity to target user\n",
        "    \n",
        "    # Generate movie recommendations based on the most similar users\n",
        "    recommendations = ratings.loc[(ratings.user_id.isin(most_similar_users.index)) & (ratings.rating > 3)]\n",
        "    top_recommendations = recommendations.sort_values(by='rating', ascending=False).drop_duplicates(subset='title', keep='first')['title'].iloc[:n].tolist()\n",
        "    return top_recommendations\n",
        "    \n",
        "\n",
        "    # Remove duplicates from recommendations"
      ]
    },
    {
      "cell_type": "code",
      "execution_count": 19,
      "metadata": {},
      "outputs": [
        {
          "name": "stdout",
          "output_type": "stream",
          "text": [
            "['Some Like It Hot (1959)', 'Back to the Future (1985)', 'Terminator 2: Judgment Day (1991)', 'Wizard of Oz, The (1939)', 'Amadeus (1984)']\n"
          ]
        }
      ],
      "source": [
        "test = collaborative_filtering_recommendation(\n",
        "    user_id=298, \n",
        "    ratings=ratings\n",
        "    )\n",
        "\n",
        "print(test)"
      ]
    },
    {
      "cell_type": "markdown",
      "metadata": {},
      "source": [
        "##### Testing"
      ]
    },
    {
      "cell_type": "markdown",
      "metadata": {
        "id": "-Jj883VAZRNe"
      },
      "source": [
        "Now, test your recommendations engines! Select a few user ids and generate recommendations using both functions you've written. Are the recommendations similar? Do the recommendations make sense?"
      ]
    },
    {
      "cell_type": "code",
      "execution_count": 26,
      "metadata": {
        "id": "kt9nuOTNJXz8"
      },
      "outputs": [
        {
          "name": "stdout",
          "output_type": "stream",
          "text": [
            "content-based for user 207:  ['Twelve Monkeys (1995)', 'Day the Earth Stood Still, The (1951)', 'Until the End of the World (Bis ans Ende der Welt) (1991)', 'Sneakers (1992)', 'Gattaca (1997)']\n",
            "collaborative for user 207:  ['Godfather: Part II, The (1974)', 'Lone Star (1996)', 'Apollo 13 (1995)', 'Wrong Trousers, The (1993)', 'Pulp Fiction (1994)']\n",
            "\n",
            "\n",
            "content-based for user 732:  ['Natural Born Killers (1994)', 'Fugitive, The (1993)', 'Supercop (1992)', 'Die Hard (1988)', 'Long Kiss Goodnight, The (1996)']\n",
            "collaborative for user 732:  ['English Patient, The (1996)', 'Titanic (1997)', 'Contact (1997)', 'Star Wars (1977)', 'Air Force One (1997)']\n",
            "\n",
            "\n",
            "content-based for user 85:  ['Shanghai Triad (Yao a yao yao dao waipo qiao) (1995)', 'Dead Man Walking (1995)', \"Mr. Holland's Opus (1995)\", 'White Balloon, The (1995)', \"Antonia's Line (1995)\"]\n",
            "collaborative for user 85:  ['Rear Window (1954)', 'Citizen Kane (1941)', 'Henry V (1989)', \"Singin' in the Rain (1952)\", 'Crying Game, The (1992)']\n",
            "\n",
            "\n",
            "content-based for user 546:  ['Shining, The (1980)', 'Nightmare on Elm Street, A (1984)', 'Prophecy II, The (1998)', 'Tales From the Crypt Presents: Demon Knight (1995)', 'Children of the Corn: The Gathering (1996)']\n",
            "collaborative for user 546:  ['Heavenly Creatures (1994)', 'Carrie (1976)', 'Abyss, The (1989)', 'Jaws (1975)', 'Silence of the Lambs, The (1991)']\n",
            "\n",
            "\n",
            "content-based for user 393:  ['Toy Story (1995)', 'Aladdin and the King of Thieves (1996)', 'Aladdin (1992)', 'Pocahontas (1995)', 'French Twist (Gazon maudit) (1995)']\n",
            "collaborative for user 393:  ['Return of the Jedi (1983)', 'Shawshank Redemption, The (1994)', 'Princess Bride, The (1987)', 'Amistad (1997)', 'Platoon (1986)']\n",
            "\n",
            "\n"
          ]
        }
      ],
      "source": [
        "# Test the recommendation engines\n",
        "users = ratings.user_id.sample(n=5)\n",
        "\n",
        "for user in users:\n",
        "    print(f'content-based for user {user}: ', content_based_recommendation(user_id=user, ratings=ratings, movies=movies))\n",
        "    print(f'collaborative for user {user}: ', collaborative_filtering_recommendation(user_id=user, ratings=ratings, n=5))\n",
        "    print('\\n')"
      ]
    }
  ],
  "metadata": {
    "colab": {
      "provenance": []
    },
    "kernelspec": {
      "display_name": ".venv",
      "language": "python",
      "name": "python3"
    },
    "language_info": {
      "codemirror_mode": {
        "name": "ipython",
        "version": 3
      },
      "file_extension": ".py",
      "mimetype": "text/x-python",
      "name": "python",
      "nbconvert_exporter": "python",
      "pygments_lexer": "ipython3",
      "version": "3.11.4"
    }
  },
  "nbformat": 4,
  "nbformat_minor": 0
}
