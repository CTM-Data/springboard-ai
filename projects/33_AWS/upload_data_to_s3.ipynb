{
 "cells": [
  {
   "cell_type": "code",
   "execution_count": 1,
   "id": "f42088ad-4dde-4053-a38a-2e876e2d88e2",
   "metadata": {},
   "outputs": [
    {
     "name": "stderr",
     "output_type": "stream",
     "text": [
      "/opt/conda/lib/python3.12/site-packages/pydantic/_internal/_fields.py:192: UserWarning: Field name \"json\" in \"MonitoringDatasetFormat\" shadows an attribute in parent \"Base\"\n",
      "  warnings.warn(\n"
     ]
    },
    {
     "name": "stdout",
     "output_type": "stream",
     "text": [
      "sagemaker.config INFO - Not applying SDK defaults from location: /etc/xdg/sagemaker/config.yaml\n",
      "sagemaker.config INFO - Not applying SDK defaults from location: /home/sagemaker-user/.config/sagemaker/config.yaml\n"
     ]
    },
    {
     "data": {
      "text/html": [
       "<pre style=\"white-space:pre;overflow-x:auto;line-height:normal;font-family:Menlo,'DejaVu Sans Mono',consolas,'Courier New',monospace\"><span style=\"color: #7fbfbf; text-decoration-color: #7fbfbf\">[04/21/25 21:37:43] </span><span style=\"color: #0069ff; text-decoration-color: #0069ff; font-weight: bold\">INFO    </span> Created S3 bucket: sagemaker-us-east-<span style=\"color: #008080; text-decoration-color: #008080; font-weight: bold\">1</span>-<span style=\"color: #008080; text-decoration-color: #008080; font-weight: bold\">523271815992</span>                     <a href=\"file:///opt/conda/lib/python3.12/site-packages/sagemaker/session.py\" target=\"_blank\"><span style=\"color: #7f7f7f; text-decoration-color: #7f7f7f\">session.py</span></a><span style=\"color: #7f7f7f; text-decoration-color: #7f7f7f\">:</span><a href=\"file:///opt/conda/lib/python3.12/site-packages/sagemaker/session.py#723\" target=\"_blank\"><span style=\"color: #7f7f7f; text-decoration-color: #7f7f7f\">723</span></a>\n",
       "</pre>\n"
      ],
      "text/plain": [
       "\u001b[2;36m[04/21/25 21:37:43]\u001b[0m\u001b[2;36m \u001b[0m\u001b[1;38;2;0;105;255mINFO    \u001b[0m Created S3 bucket: sagemaker-us-east-\u001b[1;36m1\u001b[0m-\u001b[1;36m523271815992\u001b[0m                     \u001b]8;id=144672;file:///opt/conda/lib/python3.12/site-packages/sagemaker/session.py\u001b\\\u001b[2msession.py\u001b[0m\u001b]8;;\u001b\\\u001b[2m:\u001b[0m\u001b]8;id=752794;file:///opt/conda/lib/python3.12/site-packages/sagemaker/session.py#723\u001b\\\u001b[2m723\u001b[0m\u001b]8;;\u001b\\\n"
      ]
     },
     "metadata": {},
     "output_type": "display_data"
    },
    {
     "name": "stdout",
     "output_type": "stream",
     "text": [
      "Default SageMaker S3 bucket: sagemaker-us-east-1-523271815992\n"
     ]
    }
   ],
   "source": [
    "import sagemaker\n",
    "\n",
    "# Get SageMaker session\n",
    "sagemaker_session = sagemaker.Session()\n",
    "\n",
    "# Get the default S3 bucket\n",
    "default_bucket = sagemaker_session.default_bucket()\n",
    "print(f\"Default SageMaker S3 bucket: {default_bucket}\")"
   ]
  },
  {
   "cell_type": "code",
   "execution_count": 3,
   "id": "323c702b-8ef2-46e7-bdbd-0deda368af99",
   "metadata": {},
   "outputs": [
    {
     "name": "stdout",
     "output_type": "stream",
     "text": [
      "File uploaded to S3 bucket: sagemaker-us-east-1-523271815992/data/storedata_total.csv\n"
     ]
    }
   ],
   "source": [
    "import boto3\n",
    "\n",
    "# Initialize S3 client\n",
    "s3 = boto3.client('s3')\n",
    "\n",
    "# Define paths\n",
    "local_file_path = \"./data/storedata_total.csv\"  # Change this if the filename is different\n",
    "bucket_name = default_bucket  # Use the SageMaker default bucket\n",
    "s3_object_path = \"data/storedata_total.csv\"  # Path inside S3\n",
    "\n",
    "# Upload the file\n",
    "s3.upload_file(local_file_path, bucket_name, s3_object_path)\n",
    "\n",
    "print(f\"File uploaded to S3 bucket: {bucket_name}/{s3_object_path}\")"
   ]
  },
  {
   "cell_type": "code",
   "execution_count": null,
   "id": "d295eeaf-d2a6-4ca7-a45f-35003b9d6b70",
   "metadata": {},
   "outputs": [],
   "source": []
  }
 ],
 "metadata": {
  "kernelspec": {
   "display_name": "Python 3 (ipykernel)",
   "language": "python",
   "name": "python3"
  },
  "language_info": {
   "codemirror_mode": {
    "name": "ipython",
    "version": 3
   },
   "file_extension": ".py",
   "mimetype": "text/x-python",
   "name": "python",
   "nbconvert_exporter": "python",
   "pygments_lexer": "ipython3",
   "version": "3.12.9"
  }
 },
 "nbformat": 4,
 "nbformat_minor": 5
}
