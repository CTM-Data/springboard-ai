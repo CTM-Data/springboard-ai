{
 "cells": [
  {
   "cell_type": "markdown",
   "metadata": {},
   "source": [
    "# Q1"
   ]
  },
  {
   "cell_type": "code",
   "execution_count": 112,
   "metadata": {},
   "outputs": [],
   "source": [
    "#TODO: should a=0 return -1? \n",
    "def newton_sqrt_estimate(a, epsilon):\n",
    "    # Write your code here\n",
    "    print(f'a: {a}, ep: {epsilon}')\n",
    "    if type(a) is not int:\n",
    "        return -1\n",
    "    elif a < 0:\n",
    "        return -1\n",
    "    elif a == 0:\n",
    "        return 0.0\n",
    "    elif a == 1:\n",
    "        return 1.0\n",
    "    elif type(epsilon) is not float:\n",
    "        return -1\n",
    "    elif epsilon < 0.0:\n",
    "        return -1\n",
    "    \n",
    "    def next_iter(xn):\n",
    "        return .5 * (xn + a/xn)\n",
    "    \n",
    "    xn = 1.0\n",
    "    xn1 = next_iter(xn)\n",
    "    \n",
    "    counter = 1\n",
    "    while abs(xn1 - xn) > epsilon:\n",
    "        xn = xn1\n",
    "        xn1 = next_iter(xn)\n",
    "        print(f'iteration {counter}: {xn1} - {xn} = {abs(xn1 - xn)}')\n",
    "        counter += 1\n",
    "    return round(xn1, 1)"
   ]
  },
  {
   "cell_type": "code",
   "execution_count": 113,
   "metadata": {},
   "outputs": [
    {
     "name": "stdout",
     "output_type": "stream",
     "text": [
      "a: 100, ep: 0.0\n",
      "iteration 1: 26.24009900990099 - 50.5 = 24.25990099009901\n",
      "iteration 2: 15.025530119986813 - 26.24009900990099 = 11.214568889914178\n",
      "iteration 3: 10.840434673026925 - 15.025530119986813 = 4.185095446959888\n",
      "iteration 4: 10.032578510960604 - 10.840434673026925 = 0.8078561620663205\n",
      "iteration 5: 10.000052895642693 - 10.032578510960604 = 0.03252561531791187\n",
      "iteration 6: 10.000000000139897 - 10.000052895642693 = 5.289550279563571e-05\n",
      "iteration 7: 10.0 - 10.000000000139897 = 1.3989698288696673e-10\n",
      "iteration 8: 10.0 - 10.0 = 0.0\n"
     ]
    },
    {
     "data": {
      "text/plain": [
       "10.0"
      ]
     },
     "execution_count": 113,
     "metadata": {},
     "output_type": "execute_result"
    }
   ],
   "source": [
    "a = 100\n",
    "ep = 0.0\n",
    "newton_sqrt_estimate(a, ep)"
   ]
  },
  {
   "cell_type": "markdown",
   "metadata": {},
   "source": [
    "# Q2"
   ]
  },
  {
   "cell_type": "code",
   "execution_count": 114,
   "metadata": {},
   "outputs": [
    {
     "data": {
      "text/html": [
       "<div>\n",
       "<style scoped>\n",
       "    .dataframe tbody tr th:only-of-type {\n",
       "        vertical-align: middle;\n",
       "    }\n",
       "\n",
       "    .dataframe tbody tr th {\n",
       "        vertical-align: top;\n",
       "    }\n",
       "\n",
       "    .dataframe thead th {\n",
       "        text-align: right;\n",
       "    }\n",
       "</style>\n",
       "<table border=\"1\" class=\"dataframe\">\n",
       "  <thead>\n",
       "    <tr style=\"text-align: right;\">\n",
       "      <th></th>\n",
       "      <th>id</th>\n",
       "      <th>vendor_id</th>\n",
       "      <th>pickup_datetime</th>\n",
       "      <th>dropoff_datetime</th>\n",
       "    </tr>\n",
       "  </thead>\n",
       "  <tbody>\n",
       "    <tr>\n",
       "      <th>0</th>\n",
       "      <td>id0219696</td>\n",
       "      <td>72</td>\n",
       "      <td>6/6/2016 6:06</td>\n",
       "      <td>6/6/2016 6:13</td>\n",
       "    </tr>\n",
       "    <tr>\n",
       "      <th>1</th>\n",
       "      <td>id1372182</td>\n",
       "      <td>80</td>\n",
       "      <td>2/7/2016 19:18</td>\n",
       "      <td>NaN</td>\n",
       "    </tr>\n",
       "    <tr>\n",
       "      <th>2</th>\n",
       "      <td>id3569980</td>\n",
       "      <td>69</td>\n",
       "      <td>6/14/2016 0:26</td>\n",
       "      <td>6/14/2016 0:34</td>\n",
       "    </tr>\n",
       "    <tr>\n",
       "      <th>3</th>\n",
       "      <td>id2858528</td>\n",
       "      <td>29</td>\n",
       "      <td>NaN</td>\n",
       "      <td>NaN</td>\n",
       "    </tr>\n",
       "  </tbody>\n",
       "</table>\n",
       "</div>"
      ],
      "text/plain": [
       "          id  vendor_id pickup_datetime dropoff_datetime\n",
       "0  id0219696         72   6/6/2016 6:06    6/6/2016 6:13\n",
       "1  id1372182         80  2/7/2016 19:18              NaN\n",
       "2  id3569980         69  6/14/2016 0:26   6/14/2016 0:34\n",
       "3  id2858528         29             NaN              NaN"
      ]
     },
     "execution_count": 114,
     "metadata": {},
     "output_type": "execute_result"
    }
   ],
   "source": [
    "import pandas as pd\n",
    "df_raw = pd.read_csv('./test_data.csv')\n",
    "df_raw"
   ]
  },
  {
   "cell_type": "code",
   "execution_count": 116,
   "metadata": {},
   "outputs": [],
   "source": [
    "def longestRide(df):\n",
    "    # Write your code here\n",
    "    df = df.dropna(\n",
    "        subset=['pickup_datetime', 'dropoff_datetime'],\n",
    "        how='any'\n",
    "    )\n",
    "    df['pickup_datetime'] = pd.to_datetime(df['pickup_datetime'])\n",
    "    df['dropoff_datetime'] = pd.to_datetime(df['dropoff_datetime'])\n",
    "    df['duration'] = df['dropoff_datetime'] - df['pickup_datetime']\n",
    "    df['pickup_month'] = df['pickup_datetime'].dt.strftime('%Y-%m')\n",
    "\n",
    "    res = df.groupby('pickup_month', as_index=False)['duration'].max()\n",
    "    res = res.merge(\n",
    "        df[['pickup_month', 'duration', 'id']],\n",
    "        on=['pickup_month', 'duration']\n",
    "    )\n",
    "    res = res[['pickup_month', 'id']].sort_values('pickup_month')\n",
    "    return res"
   ]
  },
  {
   "cell_type": "code",
   "execution_count": 118,
   "metadata": {},
   "outputs": [
    {
     "name": "stderr",
     "output_type": "stream",
     "text": [
      "C:\\Users\\Clayton.Marquardt\\AppData\\Local\\Temp\\1\\ipykernel_3608\\2125734414.py:7: SettingWithCopyWarning: \n",
      "A value is trying to be set on a copy of a slice from a DataFrame.\n",
      "Try using .loc[row_indexer,col_indexer] = value instead\n",
      "\n",
      "See the caveats in the documentation: https://pandas.pydata.org/pandas-docs/stable/user_guide/indexing.html#returning-a-view-versus-a-copy\n",
      "  df['pickup_datetime'] = pd.to_datetime(df['pickup_datetime'])\n",
      "C:\\Users\\Clayton.Marquardt\\AppData\\Local\\Temp\\1\\ipykernel_3608\\2125734414.py:8: SettingWithCopyWarning: \n",
      "A value is trying to be set on a copy of a slice from a DataFrame.\n",
      "Try using .loc[row_indexer,col_indexer] = value instead\n",
      "\n",
      "See the caveats in the documentation: https://pandas.pydata.org/pandas-docs/stable/user_guide/indexing.html#returning-a-view-versus-a-copy\n",
      "  df['dropoff_datetime'] = pd.to_datetime(df['dropoff_datetime'])\n",
      "C:\\Users\\Clayton.Marquardt\\AppData\\Local\\Temp\\1\\ipykernel_3608\\2125734414.py:9: SettingWithCopyWarning: \n",
      "A value is trying to be set on a copy of a slice from a DataFrame.\n",
      "Try using .loc[row_indexer,col_indexer] = value instead\n",
      "\n",
      "See the caveats in the documentation: https://pandas.pydata.org/pandas-docs/stable/user_guide/indexing.html#returning-a-view-versus-a-copy\n",
      "  df['duration'] = df['dropoff_datetime'] - df['pickup_datetime']\n",
      "C:\\Users\\Clayton.Marquardt\\AppData\\Local\\Temp\\1\\ipykernel_3608\\2125734414.py:10: SettingWithCopyWarning: \n",
      "A value is trying to be set on a copy of a slice from a DataFrame.\n",
      "Try using .loc[row_indexer,col_indexer] = value instead\n",
      "\n",
      "See the caveats in the documentation: https://pandas.pydata.org/pandas-docs/stable/user_guide/indexing.html#returning-a-view-versus-a-copy\n",
      "  df['pickup_month'] = df['pickup_datetime'].dt.strftime('%Y-%m')\n"
     ]
    },
    {
     "data": {
      "text/html": [
       "<div>\n",
       "<style scoped>\n",
       "    .dataframe tbody tr th:only-of-type {\n",
       "        vertical-align: middle;\n",
       "    }\n",
       "\n",
       "    .dataframe tbody tr th {\n",
       "        vertical-align: top;\n",
       "    }\n",
       "\n",
       "    .dataframe thead th {\n",
       "        text-align: right;\n",
       "    }\n",
       "</style>\n",
       "<table border=\"1\" class=\"dataframe\">\n",
       "  <thead>\n",
       "    <tr style=\"text-align: right;\">\n",
       "      <th></th>\n",
       "      <th>pickup_month</th>\n",
       "      <th>id</th>\n",
       "    </tr>\n",
       "  </thead>\n",
       "  <tbody>\n",
       "    <tr>\n",
       "      <th>0</th>\n",
       "      <td>2016-06</td>\n",
       "      <td>id3569980</td>\n",
       "    </tr>\n",
       "  </tbody>\n",
       "</table>\n",
       "</div>"
      ],
      "text/plain": [
       "  pickup_month         id\n",
       "0      2016-06  id3569980"
      ]
     },
     "execution_count": 118,
     "metadata": {},
     "output_type": "execute_result"
    }
   ],
   "source": [
    "longestRide(df_raw)"
   ]
  },
  {
   "cell_type": "markdown",
   "metadata": {},
   "source": [
    "# Q3"
   ]
  },
  {
   "cell_type": "code",
   "execution_count": 130,
   "metadata": {},
   "outputs": [],
   "source": [
    "def survival_probability(gender, passenger_class):\n",
    "    if type(gender) is not str:\n",
    "        return 0\n",
    "    elif gender.lower() != 'male' and gender.lower() != 'female':\n",
    "        return 0\n",
    "    elif type(passenger_class) is not int:\n",
    "        return 0\n",
    "    elif passenger_class < 1 or passenger_class > 3:\n",
    "        return 0\n",
    "    gender = gender.lower()\n",
    "    df = pd.read_csv('http://web.stanford.edu/class/archive/cs/cs109/cs109.1166/stuff/titanic.csv')\n",
    "\n",
    "    df = df[(df['Sex'] == gender) & (df['Pclass'] == passenger_class)]\n",
    "    odds = df[df['Survived'] == 1].shape[0] / df[df['Survived'] == 0].shape[0]\n",
    "    return round(odds, 4)\n"
   ]
  },
  {
   "cell_type": "code",
   "execution_count": 131,
   "metadata": {},
   "outputs": [
    {
     "data": {
      "text/plain": [
       "0.1868"
      ]
     },
     "execution_count": 131,
     "metadata": {},
     "output_type": "execute_result"
    }
   ],
   "source": [
    "survival_probability('male', 2)"
   ]
  },
  {
   "cell_type": "code",
   "execution_count": null,
   "metadata": {},
   "outputs": [],
   "source": []
  }
 ],
 "metadata": {
  "kernelspec": {
   "display_name": "Python 3",
   "language": "python",
   "name": "python3"
  },
  "language_info": {
   "codemirror_mode": {
    "name": "ipython",
    "version": 3
   },
   "file_extension": ".py",
   "mimetype": "text/x-python",
   "name": "python",
   "nbconvert_exporter": "python",
   "pygments_lexer": "ipython3",
   "version": "3.11.4"
  }
 },
 "nbformat": 4,
 "nbformat_minor": 2
}
