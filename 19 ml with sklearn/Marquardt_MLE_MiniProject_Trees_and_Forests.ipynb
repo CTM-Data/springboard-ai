{
  "cells": [
    {
      "cell_type": "markdown",
      "metadata": {
        "id": "Yzr5Eo_qxHQi"
      },
      "source": [
        "# Mini Project: Trees and Forests\n",
        "\n",
        "In this mini-project you'll be introduced to some fundamental concepts in machine learning: **Decision Trees**, **Random Forests**, **Boosting**, and **Bagging**. These techniques play a crucial role in building powerful and versatile machine learning models that can be applied to a wide range of tasks, from classification to regression.\n",
        "\n",
        "## Decision Trees\n",
        "\n",
        "Decision Trees are intuitive models that mimic human decision-making processes. Just like answering a series of questions to reach a conclusion, decision trees segment data based on a sequence of if-else questions. They partition the feature space into regions and assign a label to each region. Decision trees are particularly helpful in understanding the decision-making process behind predictions.\n",
        "\n",
        "## Random Forests\n",
        "\n",
        "Random Forests are an ensemble method that combines multiple decision trees to create a more robust and accurate model. Each tree in a random forest is trained on a random subset of the data with replacement (bootstrapping), and these trees are allowed to make individual predictions. The final prediction is determined through majority voting (classification) or averaging (regression) of the predictions made by the individual trees. Random Forests are known for their ability to handle noisy data, reduce overfitting, and capture complex relationships.\n",
        "\n",
        "## Bagging: Bootstrap Aggregating\n",
        "\n",
        "Bagging, short for Bootstrap Aggregating, is the technique behind Random Forests. It involves training multiple models on bootstrapped subsets of the training data. Bagging reduces the variance of the model by averaging out the noise and errors present in individual models. While Random Forests are a specific application of bagging to decision trees, bagging can also be applied to other base models.\n",
        "\n",
        "## Boosting\n",
        "\n",
        "Boosting is another ensemble technique that focuses on building a strong predictor by sequentially training multiple weak learners (often shallow decision trees). Boosting assigns weights to training instances, focusing more on those that the previous models misclassified. This iterative process helps the model correct its mistakes and improve its performance over time. Popular boosting algorithms include AdaBoost, Gradient Boosting, and XGBoost.\n",
        "\n",
        "In this mini-project, we will:\n",
        "\n",
        "1. Implement and visualize decision trees using the scikit-learn library.\n",
        "2. Explore the power of random forests and understand feature importance.\n",
        "3. Dive into the boosting technique with AdaBoost to enhance model accuracy."
      ]
    },
    {
      "cell_type": "markdown",
      "metadata": {
        "id": "2JZGx1fBfi08"
      },
      "source": [
        "For this mini-project we'll be using the [Breast Cancer Wisconsin (Diagnostic) dataset](https://scikit-learn.org/stable/modules/generated/sklearn.datasets.load_breast_cancer.html). First, let's import all the libraries we'll be using."
      ]
    },
    {
      "cell_type": "code",
      "execution_count": 46,
      "metadata": {
        "id": "5ynUME3XEH-Q"
      },
      "outputs": [],
      "source": [
        "import numpy as np\n",
        "import pandas as pd\n",
        "import matplotlib.pyplot as plt\n",
        "from sklearn.datasets import load_breast_cancer\n",
        "from sklearn.model_selection import train_test_split\n",
        "from sklearn.tree import DecisionTreeClassifier, plot_tree\n",
        "from sklearn.ensemble import RandomForestClassifier, AdaBoostClassifier\n",
        "from sklearn.metrics import accuracy_score"
      ]
    },
    {
      "cell_type": "markdown",
      "metadata": {
        "id": "81annADtOkJf"
      },
      "source": [
        "Here are your tasks:\n",
        "\n",
        "1. Use [load_breast_cancer](https://scikit-learn.org/stable/modules/generated/sklearn.datasets.load_breast_cancer.html) to load the Breast Cancer Wisconsin dataset as a Pandas dataframe.\n",
        "2. Split the dataset into training and test sets.\n",
        "3. Display the first five rows of data and make sure everything looks ok. You should have already explored the data a bit in the logistic regression mini-project so there's no need to conduct further EDA.  "
      ]
    },
    {
      "cell_type": "code",
      "execution_count": 47,
      "metadata": {
        "id": "jN6cgyIREPGN"
      },
      "outputs": [
        {
          "data": {
            "text/html": [
              "<div>\n",
              "<style scoped>\n",
              "    .dataframe tbody tr th:only-of-type {\n",
              "        vertical-align: middle;\n",
              "    }\n",
              "\n",
              "    .dataframe tbody tr th {\n",
              "        vertical-align: top;\n",
              "    }\n",
              "\n",
              "    .dataframe thead th {\n",
              "        text-align: right;\n",
              "    }\n",
              "</style>\n",
              "<table border=\"1\" class=\"dataframe\">\n",
              "  <thead>\n",
              "    <tr style=\"text-align: right;\">\n",
              "      <th></th>\n",
              "      <th>0</th>\n",
              "      <th>1</th>\n",
              "      <th>2</th>\n",
              "      <th>3</th>\n",
              "      <th>4</th>\n",
              "      <th>5</th>\n",
              "      <th>6</th>\n",
              "      <th>7</th>\n",
              "      <th>8</th>\n",
              "      <th>9</th>\n",
              "      <th>...</th>\n",
              "      <th>21</th>\n",
              "      <th>22</th>\n",
              "      <th>23</th>\n",
              "      <th>24</th>\n",
              "      <th>25</th>\n",
              "      <th>26</th>\n",
              "      <th>27</th>\n",
              "      <th>28</th>\n",
              "      <th>29</th>\n",
              "      <th>Target</th>\n",
              "    </tr>\n",
              "  </thead>\n",
              "  <tbody>\n",
              "    <tr>\n",
              "      <th>0</th>\n",
              "      <td>17.99</td>\n",
              "      <td>10.38</td>\n",
              "      <td>122.80</td>\n",
              "      <td>1001.0</td>\n",
              "      <td>0.11840</td>\n",
              "      <td>0.27760</td>\n",
              "      <td>0.3001</td>\n",
              "      <td>0.14710</td>\n",
              "      <td>0.2419</td>\n",
              "      <td>0.07871</td>\n",
              "      <td>...</td>\n",
              "      <td>17.33</td>\n",
              "      <td>184.60</td>\n",
              "      <td>2019.0</td>\n",
              "      <td>0.1622</td>\n",
              "      <td>0.6656</td>\n",
              "      <td>0.7119</td>\n",
              "      <td>0.2654</td>\n",
              "      <td>0.4601</td>\n",
              "      <td>0.11890</td>\n",
              "      <td>0</td>\n",
              "    </tr>\n",
              "    <tr>\n",
              "      <th>1</th>\n",
              "      <td>20.57</td>\n",
              "      <td>17.77</td>\n",
              "      <td>132.90</td>\n",
              "      <td>1326.0</td>\n",
              "      <td>0.08474</td>\n",
              "      <td>0.07864</td>\n",
              "      <td>0.0869</td>\n",
              "      <td>0.07017</td>\n",
              "      <td>0.1812</td>\n",
              "      <td>0.05667</td>\n",
              "      <td>...</td>\n",
              "      <td>23.41</td>\n",
              "      <td>158.80</td>\n",
              "      <td>1956.0</td>\n",
              "      <td>0.1238</td>\n",
              "      <td>0.1866</td>\n",
              "      <td>0.2416</td>\n",
              "      <td>0.1860</td>\n",
              "      <td>0.2750</td>\n",
              "      <td>0.08902</td>\n",
              "      <td>0</td>\n",
              "    </tr>\n",
              "    <tr>\n",
              "      <th>2</th>\n",
              "      <td>19.69</td>\n",
              "      <td>21.25</td>\n",
              "      <td>130.00</td>\n",
              "      <td>1203.0</td>\n",
              "      <td>0.10960</td>\n",
              "      <td>0.15990</td>\n",
              "      <td>0.1974</td>\n",
              "      <td>0.12790</td>\n",
              "      <td>0.2069</td>\n",
              "      <td>0.05999</td>\n",
              "      <td>...</td>\n",
              "      <td>25.53</td>\n",
              "      <td>152.50</td>\n",
              "      <td>1709.0</td>\n",
              "      <td>0.1444</td>\n",
              "      <td>0.4245</td>\n",
              "      <td>0.4504</td>\n",
              "      <td>0.2430</td>\n",
              "      <td>0.3613</td>\n",
              "      <td>0.08758</td>\n",
              "      <td>0</td>\n",
              "    </tr>\n",
              "    <tr>\n",
              "      <th>3</th>\n",
              "      <td>11.42</td>\n",
              "      <td>20.38</td>\n",
              "      <td>77.58</td>\n",
              "      <td>386.1</td>\n",
              "      <td>0.14250</td>\n",
              "      <td>0.28390</td>\n",
              "      <td>0.2414</td>\n",
              "      <td>0.10520</td>\n",
              "      <td>0.2597</td>\n",
              "      <td>0.09744</td>\n",
              "      <td>...</td>\n",
              "      <td>26.50</td>\n",
              "      <td>98.87</td>\n",
              "      <td>567.7</td>\n",
              "      <td>0.2098</td>\n",
              "      <td>0.8663</td>\n",
              "      <td>0.6869</td>\n",
              "      <td>0.2575</td>\n",
              "      <td>0.6638</td>\n",
              "      <td>0.17300</td>\n",
              "      <td>0</td>\n",
              "    </tr>\n",
              "    <tr>\n",
              "      <th>4</th>\n",
              "      <td>20.29</td>\n",
              "      <td>14.34</td>\n",
              "      <td>135.10</td>\n",
              "      <td>1297.0</td>\n",
              "      <td>0.10030</td>\n",
              "      <td>0.13280</td>\n",
              "      <td>0.1980</td>\n",
              "      <td>0.10430</td>\n",
              "      <td>0.1809</td>\n",
              "      <td>0.05883</td>\n",
              "      <td>...</td>\n",
              "      <td>16.67</td>\n",
              "      <td>152.20</td>\n",
              "      <td>1575.0</td>\n",
              "      <td>0.1374</td>\n",
              "      <td>0.2050</td>\n",
              "      <td>0.4000</td>\n",
              "      <td>0.1625</td>\n",
              "      <td>0.2364</td>\n",
              "      <td>0.07678</td>\n",
              "      <td>0</td>\n",
              "    </tr>\n",
              "  </tbody>\n",
              "</table>\n",
              "<p>5 rows × 31 columns</p>\n",
              "</div>"
            ],
            "text/plain": [
              "       0      1       2       3        4        5       6        7       8  \\\n",
              "0  17.99  10.38  122.80  1001.0  0.11840  0.27760  0.3001  0.14710  0.2419   \n",
              "1  20.57  17.77  132.90  1326.0  0.08474  0.07864  0.0869  0.07017  0.1812   \n",
              "2  19.69  21.25  130.00  1203.0  0.10960  0.15990  0.1974  0.12790  0.2069   \n",
              "3  11.42  20.38   77.58   386.1  0.14250  0.28390  0.2414  0.10520  0.2597   \n",
              "4  20.29  14.34  135.10  1297.0  0.10030  0.13280  0.1980  0.10430  0.1809   \n",
              "\n",
              "         9  ...     21      22      23      24      25      26      27  \\\n",
              "0  0.07871  ...  17.33  184.60  2019.0  0.1622  0.6656  0.7119  0.2654   \n",
              "1  0.05667  ...  23.41  158.80  1956.0  0.1238  0.1866  0.2416  0.1860   \n",
              "2  0.05999  ...  25.53  152.50  1709.0  0.1444  0.4245  0.4504  0.2430   \n",
              "3  0.09744  ...  26.50   98.87   567.7  0.2098  0.8663  0.6869  0.2575   \n",
              "4  0.05883  ...  16.67  152.20  1575.0  0.1374  0.2050  0.4000  0.1625   \n",
              "\n",
              "       28       29  Target  \n",
              "0  0.4601  0.11890       0  \n",
              "1  0.2750  0.08902       0  \n",
              "2  0.3613  0.08758       0  \n",
              "3  0.6638  0.17300       0  \n",
              "4  0.2364  0.07678       0  \n",
              "\n",
              "[5 rows x 31 columns]"
            ]
          },
          "execution_count": 47,
          "metadata": {},
          "output_type": "execute_result"
        }
      ],
      "source": [
        "# Load the Breast Cancer Wisconsin dataset\n",
        "df = pd.DataFrame(load_breast_cancer().data)\n",
        "df['Target'] = load_breast_cancer().target\n",
        "df.head()"
      ]
    },
    {
      "cell_type": "code",
      "execution_count": 48,
      "metadata": {},
      "outputs": [
        {
          "name": "stdout",
          "output_type": "stream",
          "text": [
            "<class 'pandas.core.frame.DataFrame'>\n",
            "RangeIndex: 569 entries, 0 to 568\n",
            "Data columns (total 31 columns):\n",
            " #   Column  Non-Null Count  Dtype  \n",
            "---  ------  --------------  -----  \n",
            " 0   0       569 non-null    float64\n",
            " 1   1       569 non-null    float64\n",
            " 2   2       569 non-null    float64\n",
            " 3   3       569 non-null    float64\n",
            " 4   4       569 non-null    float64\n",
            " 5   5       569 non-null    float64\n",
            " 6   6       569 non-null    float64\n",
            " 7   7       569 non-null    float64\n",
            " 8   8       569 non-null    float64\n",
            " 9   9       569 non-null    float64\n",
            " 10  10      569 non-null    float64\n",
            " 11  11      569 non-null    float64\n",
            " 12  12      569 non-null    float64\n",
            " 13  13      569 non-null    float64\n",
            " 14  14      569 non-null    float64\n",
            " 15  15      569 non-null    float64\n",
            " 16  16      569 non-null    float64\n",
            " 17  17      569 non-null    float64\n",
            " 18  18      569 non-null    float64\n",
            " 19  19      569 non-null    float64\n",
            " 20  20      569 non-null    float64\n",
            " 21  21      569 non-null    float64\n",
            " 22  22      569 non-null    float64\n",
            " 23  23      569 non-null    float64\n",
            " 24  24      569 non-null    float64\n",
            " 25  25      569 non-null    float64\n",
            " 26  26      569 non-null    float64\n",
            " 27  27      569 non-null    float64\n",
            " 28  28      569 non-null    float64\n",
            " 29  29      569 non-null    float64\n",
            " 30  Target  569 non-null    int32  \n",
            "dtypes: float64(30), int32(1)\n",
            "memory usage: 135.7 KB\n"
          ]
        }
      ],
      "source": [
        "df.info()"
      ]
    },
    {
      "cell_type": "code",
      "execution_count": 49,
      "metadata": {
        "id": "F7-6BwIiWhY1"
      },
      "outputs": [],
      "source": [
        "# Split the dataset into training and testing sets\n",
        "x_train, x_test, y_train, y_test = train_test_split(df.drop(columns='Target'), df['Target'], train_size=.2, random_state=0)"
      ]
    },
    {
      "cell_type": "code",
      "execution_count": 50,
      "metadata": {
        "id": "rOTFtVlxEjvN"
      },
      "outputs": [
        {
          "name": "stdout",
          "output_type": "stream",
          "text": [
            "        0      1      2      3        4        5        6        7       8   \\\n",
            "270  14.29  16.82  90.30  632.6  0.06429  0.02675  0.00725  0.00625  0.1508   \n",
            "411  11.04  16.83  70.92  373.2  0.10770  0.07804  0.03046  0.02480  0.1714   \n",
            "50   11.76  21.60  74.72  427.9  0.08637  0.04966  0.01657  0.01115  0.1495   \n",
            "209  15.27  12.91  98.17  725.5  0.08182  0.06230  0.05892  0.03157  0.1359   \n",
            "511  14.81  14.70  94.66  680.7  0.08472  0.05016  0.03416  0.02541  0.1659   \n",
            "\n",
            "          9   ...     20     21      22     23       24       25       26  \\\n",
            "270  0.05376  ...  14.91  20.65   94.44  684.6  0.08567  0.05036  0.03866   \n",
            "411  0.06340  ...  12.41  26.44   79.93  471.4  0.13690  0.14820  0.10670   \n",
            "50   0.05888  ...  12.98  25.72   82.98  516.5  0.10850  0.08615  0.05523   \n",
            "209  0.05526  ...  17.38  15.92  113.70  932.7  0.12220  0.21860  0.29620   \n",
            "511  0.05348  ...  15.61  17.58  101.70  760.2  0.11390  0.10110  0.11010   \n",
            "\n",
            "          27      28       29  \n",
            "270  0.03333  0.2458  0.06120  \n",
            "411  0.07431  0.2998  0.07881  \n",
            "50   0.03715  0.2433  0.06563  \n",
            "209  0.10350  0.2320  0.07474  \n",
            "511  0.07955  0.2334  0.06142  \n",
            "\n",
            "[5 rows x 30 columns] 270    1\n",
            "411    1\n",
            "50     1\n",
            "209    1\n",
            "511    1\n",
            "Name: Target, dtype: int32\n"
          ]
        }
      ],
      "source": [
        "# Display first 5 rows\n",
        "print(x_train.head(), y_train.head())"
      ]
    },
    {
      "cell_type": "markdown",
      "metadata": {
        "id": "bT64m51APSGh"
      },
      "source": [
        "Let's start by diving into decision trees. At a high level, decision trees are a machine learning algorithm used for both classification and regression tasks. They model decisions and decision-making processes by breaking down a complex decision into a sequence of simpler decisions or questions. Each decision leads to one of several possible outcomes, eventually leading to a prediction or classification.\n",
        "\n",
        "**Decision trees are built out of the following components:**\n",
        "- **Nodes:** Decision trees consist of nodes. The initial node is the root node, and the final nodes are called leaf nodes.\n",
        "- **Edges:** Edges connect nodes and represent the decision outcomes.\n",
        "- **Attributes/Features:** Each node involves a decision based on a specific attribute or feature.\n",
        "- **Splitting:** At each node, the dataset is partitioned into subsets based on an attribute's values.\n",
        "- **Leaf Nodes:** These nodes represent the final predicted class or value.\n",
        "\n",
        "**How Decision Trees Work:**\n",
        "1. **Selecting the Best Feature:** Decision trees start with the root node and select the feature that best separates the data.\n",
        "2. **Splitting:** The selected feature is used to split the data into subsets at each internal node.\n",
        "3. **Repeating:** The process continues recursively for each subset, selecting the best feature at each node.\n",
        "4. **Leaf Nodes:** The process stops when a certain stopping criterion is met, or when all instances at a node belong to the same class.\n",
        "\n",
        "**Advantages:**\n",
        "1. **Interpretability:** Decision trees are easy to understand and interpret. The path from the root to a leaf node can be visualized as a sequence of decisions.\n",
        "2. **Handles Numerical and Categorical Data:** Decision trees can handle both numerical and categorical data, making them versatile.\n",
        "3. **Non-Linearity:** They can capture non-linear relationships between features and the target variable.\n",
        "4. **Feature Importance:** Decision trees provide a measure of feature importance, helping in feature selection.\n",
        "\n",
        "**Challenges and Considerations:**\n",
        "1. **Overfitting:** Decision trees can create overly complex models that fit the training data too closely, leading to poor generalization.\n",
        "2. **Instability:** Small changes in the data can lead to different trees, which can make the model unstable.\n",
        "3. **Bias towards Majority Class:** In classification tasks, decision trees tend to favor the majority class if classes are imbalanced.\n",
        "\n",
        "**Improvements:**\n",
        "1. **Pruning:** Pruning is the process of removing branches that do not improve the model's performance on validation data, reducing overfitting.\n",
        "2. **Ensemble Methods:** Random Forests and Gradient Boosting Trees are ensemble methods that combine multiple decision trees to improve performance.\n",
        "\n",
        "There are a number of different metrics used to determine how to split a node in a decision tree. The Gini impurity is a popular criterion used in decision tree algorithms. It measures the degree of impurity in a dataset, where lower values indicate more pure subsets of data. In the context of decision trees, the Gini impurity is used to assess how often a randomly chosen element would be misclassified if it were randomly assigned to a class based on the distribution of class labels in a subset. The Gini impurity ranges between 0 (pure node, all instances belong to a single class) and 0.5 (impure node, instances are evenly distributed across classes)."
      ]
    },
    {
      "cell_type": "markdown",
      "metadata": {
        "id": "PjRU4fdmTSF5"
      },
      "source": [
        "Here are your tasks:\n",
        "\n",
        "1. Use Scikit-Learn's [DecisionTreeClassifier](https://scikit-learn.org/stable/modules/generated/sklearn.tree.DecisionTreeClassifier.html) to fit a model on the training data.\n",
        "2. Visualize the resulting tree using [plot_tree](https://scikit-learn.org/stable/modules/generated/sklearn.tree.plot_tree.html).\n",
        "3. Iterate on the first two steps by trying different inputs to the decision tree classifier. What happens if you change the max depth? How about the maximum number of lead nodes? From the visualization, make sure you're able to understand how to descend the decision tree to arrive at a prediction."
      ]
    },
    {
      "cell_type": "code",
      "execution_count": 51,
      "metadata": {
        "id": "41e16xuuWk_q"
      },
      "outputs": [
        {
          "data": {
            "text/plain": [
              "0.9122807017543859"
            ]
          },
          "execution_count": 51,
          "metadata": {},
          "output_type": "execute_result"
        }
      ],
      "source": [
        "# Create a Decision Tree model\n",
        "tree = DecisionTreeClassifier(random_state=0)\n",
        "tree.fit(x_train, y_train)\n",
        "tree.score(x_test, y_test)"
      ]
    },
    {
      "cell_type": "code",
      "execution_count": 52,
      "metadata": {
        "id": "93kbxVvJEtFx"
      },
      "outputs": [
        {
          "data": {
            "image/png": "[encoded data removed]",
            "text/plain": [
              "<Figure size 640x480 with 1 Axes>"
            ]
          },
          "metadata": {},
          "output_type": "display_data"
        }
      ],
      "source": [
        "# Visualize the Decision Tree\n",
        "plot_tree(tree)\n",
        "plt.show()"
      ]
    },
    {
      "cell_type": "code",
      "execution_count": 53,
      "metadata": {},
      "outputs": [
        {
          "data": {
            "text/plain": [
              "{'gini_best': 0.912,\n",
              " 'gini_random': 0.912,\n",
              " 'entropy_best': 0.912,\n",
              " 'entropy_random': 0.912,\n",
              " 'log_loss_best': 0.912,\n",
              " 'log_loss_random': 0.912}"
            ]
          },
          "execution_count": 53,
          "metadata": {},
          "output_type": "execute_result"
        }
      ],
      "source": [
        "criterion = ['gini', 'entropy', 'log_loss']\n",
        "splitter = ['best', 'random']\n",
        "\n",
        "results = {}\n",
        "for criteria in criterion: \n",
        "    for split in splitter: \n",
        "        tree_loop = DecisionTreeClassifier(random_state=0, criterion=criteria, splitter=split)\n",
        "        tree_loop.fit(x_train, y_train)\n",
        "        score = tree.score(x_test, y_test)\n",
        "        combo = f'{criteria}_{split}'\n",
        "        results[combo] = round(score, 3)\n",
        "    \n",
        "results"
      ]
    },
    {
      "cell_type": "markdown",
      "metadata": {
        "id": "JbkDq7ApWF8m"
      },
      "source": [
        "Random Forests are an extension of decision trees that leverage the power of ensemble learning to improve predictive accuracy and robustness. Instead of relying on a single decision tree, Random Forests combine multiple decision trees to make more accurate and stable predictions. Let's walk through the steps of going from decision trees to Random Forests:\n",
        "\n",
        "**Step 1: Building Individual Decision Trees**\n",
        "1. **Decision Tree Construction:** Start by building multiple individual decision trees. Each tree is trained on a bootstrapped subset of the training data, meaning that each tree sees a slightly different version of the data due to random sampling with replacement.\n",
        "2. **Feature Selection:** At each node of a decision tree, only a random subset of features is considered for splitting. This introduces randomness and diversity among the trees.\n",
        "\n",
        "**Step 2: Combining Trees in a Random Forest**\n",
        "1. **Predictions:** When you need to make a prediction using the Random Forest, each individual tree in the forest makes a prediction.\n",
        "2. **Majority Voting (Classification) or Averaging (Regression):** In the case of classification, the class that the majority of trees predict becomes the final prediction. In the case of regression, the average of predictions from all trees is taken as the final prediction.\n",
        "\n",
        "**Benefits of Random Forests:**\n",
        "1. **Reduced Overfitting:** The ensemble nature of Random Forests helps reduce overfitting. The diversity among the trees reduces the risk of capturing noise in the data.\n",
        "2. **Feature Importance:** Random Forests can provide an estimate of feature importance by tracking how much each feature contributes to improving the purity of the nodes.\n",
        "3. **Handles Noisy Data:** Random Forests can handle noisy and irrelevant features more effectively than individual decision trees.\n",
        "4. **Parallelization:** Training decision trees can be parallelized since they are independent of each other, which speeds up the training process."
      ]
    },
    {
      "cell_type": "markdown",
      "metadata": {
        "id": "WJGS-FUzWiTz"
      },
      "source": [
        "Here are your tasks:\n",
        "\n",
        "1. Use your training data to train a Random Forest using [RandomForestClassifier](https://scikit-learn.org/stable/modules/generated/sklearn.ensemble.RandomForestClassifier.html).\n",
        "2. Extract the feature importances from the trained model.\n",
        "3. Print the feature importances from largest to smallest."
      ]
    },
    {
      "cell_type": "code",
      "execution_count": 54,
      "metadata": {
        "id": "srHwa2q-WpWt"
      },
      "outputs": [
        {
          "data": {
            "text/plain": [
              "0.9364035087719298"
            ]
          },
          "execution_count": 54,
          "metadata": {},
          "output_type": "execute_result"
        }
      ],
      "source": [
        "# Train random forest model\n",
        "forest = RandomForestClassifier(random_state=0)\n",
        "forest.fit(x_train, y_train)\n",
        "forest.score(x_test, y_test)"
      ]
    },
    {
      "cell_type": "code",
      "execution_count": 55,
      "metadata": {
        "id": "rLO_P-ivWc33"
      },
      "outputs": [
        {
          "data": {
            "text/plain": [
              "[(0, 0.02950908844862436),\n",
              " (1, 0.008095221793763638),\n",
              " (2, 0.09431693951982838),\n",
              " (3, 0.0426903416452874),\n",
              " (4, 0.004752901678095388),\n",
              " (5, 0.004839703569430439),\n",
              " (6, 0.10266028597331817),\n",
              " (7, 0.1609594176938174),\n",
              " (8, 0.0026636409155801452),\n",
              " (9, 0.0033897007527304477),\n",
              " (10, 0.025337672873755077),\n",
              " (11, 0.0010241084130667144),\n",
              " (12, 0.0159932996834106),\n",
              " (13, 0.04756312065915217),\n",
              " (14, 0.003464858168632049),\n",
              " (15, 0.002739399440156405),\n",
              " (16, 0.0009032353443169387),\n",
              " (17, 0.007920397123394048),\n",
              " (18, 0.0020324094191739345),\n",
              " (19, 0.0009274485599493045),\n",
              " (20, 0.09274383659256966),\n",
              " (21, 0.007020409929581163),\n",
              " (22, 0.1540945856997849),\n",
              " (23, 0.06053880320331435),\n",
              " (24, 0.006157600699231891),\n",
              " (25, 0.005663474292004351),\n",
              " (26, 0.01587935141292501),\n",
              " (27, 0.08133881383352097),\n",
              " (28, 0.00904625128933145),\n",
              " (29, 0.00573368137225341)]"
            ]
          },
          "execution_count": 55,
          "metadata": {},
          "output_type": "execute_result"
        }
      ],
      "source": [
        "# Extract feature importances\n",
        "feat_importance = list(zip(df.drop(columns='Target').columns, forest.feature_importances_))\n",
        "feat_importance"
      ]
    },
    {
      "cell_type": "markdown",
      "metadata": {
        "id": "wBO7q_tdZ3iT"
      },
      "source": [
        "AdaBoost, short for Adaptive Boosting, is a powerful ensemble learning technique used primarily for classification tasks. It is designed to enhance the performance of weak learners (typically shallow decision trees) by combining their predictions. AdaBoost focuses on learning from the mistakes of previous models and gives more weight to misclassified instances, allowing subsequent models to correct those mistakes.\n",
        "\n",
        "Here's an overview of how AdaBoost works:\n",
        "\n",
        "**Step 1: Building Weak Learners (Base Models)**\n",
        "1. **Initialization:** Each training instance is initially assigned equal weights.\n",
        "2. **Training Weak Learners:** A series of weak learners (e.g., shallow decision trees) are trained on the data. Each weak learner tries to minimize the weighted classification error, where the weight of an instance depends on its previous misclassifications. The first weak learner is trained on the original data.\n",
        "\n",
        "**Step 2: Weighting Instances**\n",
        "1. **Calculating Error:** The weighted classification error of each weak learner is computed as the sum of weights of misclassified instances.\n",
        "2. **Updating Weights:** Instances that were misclassified by the previous weak learner are given higher weights, making them more important for subsequent models. Instances that were correctly classified are given lower weights.\n",
        "\n",
        "**Step 3: Combining Weak Learners**\n",
        "1. **Predictions and Voting:** The predictions from all weak learners are combined using weighted majority voting. Weights are assigned to each weak learner based on its performance (lower error leads to higher weight).\n",
        "2. **Final Prediction:** The final prediction is made by taking a weighted majority vote of the weak learners' predictions.\n",
        "\n",
        "**Benefits of AdaBoost:**\n",
        "1. **Adaptive Learning:** AdaBoost focuses on instances that were misclassified by previous models, adapting to the complexity of the data.\n",
        "2. **Improves Weak Models:** Even if individual weak learners perform only slightly better than random guessing, AdaBoost can combine them to create a strong model.\n",
        "3. **Reduces Overfitting:** The iterative nature of AdaBoost allows it to focus on hard-to-classify instances and improve overall generalization."
      ]
    },
    {
      "cell_type": "markdown",
      "metadata": {
        "id": "T8IsKNfIaAC3"
      },
      "source": [
        "Here are your tasks:\n",
        "\n",
        "1. Build and train an [AdaBoostClassifier](https://scikit-learn.org/stable/modules/generated/sklearn.ensemble.AdaBoostClassifier.html) on your training data using a decision tree of max depth equal to 1 as your weak learner.\n",
        "2. Evaluate your decision tree, random forest, and AdaBoost models by applying [accuracy_score](https://scikit-learn.org/stable/modules/generated/sklearn.metrics.accuracy_score.html) to the test data. Which model performs the best? Experiment by changing the hyperparameters of these models.\n"
      ]
    },
    {
      "cell_type": "code",
      "execution_count": 56,
      "metadata": {
        "id": "cEmNpWHLLZIQ"
      },
      "outputs": [
        {
          "data": {
            "text/plain": [
              "0.9385964912280702"
            ]
          },
          "execution_count": 56,
          "metadata": {},
          "output_type": "execute_result"
        }
      ],
      "source": [
        "# Build and train an AdaBoostClassifier on your training data.\n",
        "boost = AdaBoostClassifier(random_state=0, algorithm='SAMME')\n",
        "boost.fit(x_train, y_train)\n",
        "boost.score(x_test, y_test)"
      ]
    },
    {
      "cell_type": "code",
      "execution_count": 59,
      "metadata": {
        "id": "chOiS6grF4At"
      },
      "outputs": [
        {
          "data": {
            "text/plain": [
              "{'tree': 0.9122807017543859,\n",
              " 'forest': 0.9364035087719298,\n",
              " 'boost': 0.9385964912280702}"
            ]
          },
          "execution_count": 59,
          "metadata": {},
          "output_type": "execute_result"
        }
      ],
      "source": [
        "# Evaluate models\n",
        "models = {'tree':tree, 'forest':forest, 'boost':boost}\n",
        "scores = {}\n",
        "for name, model in models.items():\n",
        "    y_pred = model.predict(x_test)\n",
        "    scores[name] = accuracy_score(y_test, y_pred)\n",
        "\n",
        "scores    "
      ]
    },
    {
      "cell_type": "markdown",
      "metadata": {},
      "source": [
        "Boosting is the most accurate model, slightly. "
      ]
    }
  ],
  "metadata": {
    "colab": {
      "provenance": []
    },
    "kernelspec": {
      "display_name": "Python 3",
      "name": "python3"
    },
    "language_info": {
      "codemirror_mode": {
        "name": "ipython",
        "version": 3
      },
      "file_extension": ".py",
      "mimetype": "text/x-python",
      "name": "python",
      "nbconvert_exporter": "python",
      "pygments_lexer": "ipython3",
      "version": "3.11.4"
    }
  },
  "nbformat": 4,
  "nbformat_minor": 0
}
